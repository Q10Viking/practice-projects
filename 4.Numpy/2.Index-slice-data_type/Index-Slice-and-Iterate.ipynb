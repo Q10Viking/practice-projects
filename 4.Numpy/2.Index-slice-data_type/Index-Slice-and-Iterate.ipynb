{
 "cells": [
  {
   "cell_type": "markdown",
   "metadata": {},
   "source": [
    "### Single Elements"
   ]
  },
  {
   "cell_type": "code",
   "execution_count": 1,
   "metadata": {},
   "outputs": [],
   "source": [
    "import numpy as np"
   ]
  },
  {
   "cell_type": "markdown",
   "metadata": {},
   "source": [
    "Numpy indexes,are zero-based"
   ]
  },
  {
   "cell_type": "code",
   "execution_count": 2,
   "metadata": {},
   "outputs": [],
   "source": [
    "# take the value from python list\n",
    "my_vector = np.array([-17,-4,0,2,21,37,109])"
   ]
  },
  {
   "cell_type": "code",
   "execution_count": 3,
   "metadata": {},
   "outputs": [
    {
     "data": {
      "text/plain": [
       "array([-17,  -4,   0,   2,  21,  37, 109])"
      ]
     },
     "execution_count": 3,
     "metadata": {},
     "output_type": "execute_result"
    }
   ],
   "source": [
    "my_vector"
   ]
  },
  {
   "cell_type": "markdown",
   "metadata": {},
   "source": [
    "#### select element"
   ]
  },
  {
   "cell_type": "code",
   "execution_count": 4,
   "metadata": {},
   "outputs": [
    {
     "data": {
      "text/plain": [
       "-17"
      ]
     },
     "execution_count": 4,
     "metadata": {},
     "output_type": "execute_result"
    }
   ],
   "source": [
    "# select element\n",
    "my_vector[0]"
   ]
  },
  {
   "cell_type": "markdown",
   "metadata": {},
   "source": [
    "#### change value"
   ]
  },
  {
   "cell_type": "code",
   "execution_count": 5,
   "metadata": {},
   "outputs": [],
   "source": [
    "# change value\n",
    "my_vector[0]= -102"
   ]
  },
  {
   "cell_type": "code",
   "execution_count": 6,
   "metadata": {},
   "outputs": [
    {
     "data": {
      "text/plain": [
       "array([-102,   -4,    0,    2,   21,   37,  109])"
      ]
     },
     "execution_count": 6,
     "metadata": {},
     "output_type": "execute_result"
    }
   ],
   "source": [
    "my_vector"
   ]
  },
  {
   "cell_type": "markdown",
   "metadata": {},
   "source": [
    "#### access the third element from the end of this array"
   ]
  },
  {
   "cell_type": "code",
   "execution_count": 7,
   "metadata": {},
   "outputs": [
    {
     "data": {
      "text/plain": [
       "21"
      ]
     },
     "execution_count": 7,
     "metadata": {},
     "output_type": "execute_result"
    }
   ],
   "source": [
    "# access the third element from the end of this array\n",
    "my_vector[-3]"
   ]
  },
  {
   "cell_type": "markdown",
   "metadata": {},
   "source": [
    "#### Index divided by array size"
   ]
  },
  {
   "cell_type": "code",
   "execution_count": 8,
   "metadata": {},
   "outputs": [
    {
     "ename": "IndexError",
     "evalue": "index 305 is out of bounds for axis 0 with size 7",
     "output_type": "error",
     "traceback": [
      "\u001b[0;31m---------------------------------------------------------------------------\u001b[0m",
      "\u001b[0;31mIndexError\u001b[0m                                Traceback (most recent call last)",
      "\u001b[0;32m<ipython-input-8-d4fbc3b5c6e0>\u001b[0m in \u001b[0;36m<module>\u001b[0;34m()\u001b[0m\n\u001b[1;32m      1\u001b[0m \u001b[0;31m# out of range\u001b[0m\u001b[0;34m\u001b[0m\u001b[0;34m\u001b[0m\u001b[0m\n\u001b[0;32m----> 2\u001b[0;31m \u001b[0mmy_vector\u001b[0m\u001b[0;34m[\u001b[0m\u001b[0;36m305\u001b[0m\u001b[0;34m]\u001b[0m\u001b[0;34m\u001b[0m\u001b[0m\n\u001b[0m",
      "\u001b[0;31mIndexError\u001b[0m: index 305 is out of bounds for axis 0 with size 7"
     ]
    }
   ],
   "source": [
    "# out of range\n",
    "my_vector[305]"
   ]
  },
  {
   "cell_type": "code",
   "execution_count": 9,
   "metadata": {},
   "outputs": [
    {
     "data": {
      "text/plain": [
       "4"
      ]
     },
     "execution_count": 9,
     "metadata": {},
     "output_type": "execute_result"
    }
   ],
   "source": [
    "305 % 7"
   ]
  },
  {
   "cell_type": "code",
   "execution_count": 10,
   "metadata": {},
   "outputs": [
    {
     "data": {
      "text/plain": [
       "21"
      ]
     },
     "execution_count": 10,
     "metadata": {},
     "output_type": "execute_result"
    }
   ],
   "source": [
    "my_vector[ 305 % 7]"
   ]
  },
  {
   "cell_type": "code",
   "execution_count": 11,
   "metadata": {},
   "outputs": [
    {
     "data": {
      "text/plain": [
       "7"
      ]
     },
     "execution_count": 11,
     "metadata": {},
     "output_type": "execute_result"
    }
   ],
   "source": [
    "my_vector.size"
   ]
  },
  {
   "cell_type": "code",
   "execution_count": 12,
   "metadata": {},
   "outputs": [
    {
     "data": {
      "text/plain": [
       "21"
      ]
     },
     "execution_count": 12,
     "metadata": {},
     "output_type": "execute_result"
    }
   ],
   "source": [
    "my_vector[ 305 % my_vector.size]"
   ]
  },
  {
   "cell_type": "markdown",
   "metadata": {},
   "source": [
    "### Two dimensional Arrays"
   ]
  },
  {
   "cell_type": "code",
   "execution_count": 13,
   "metadata": {},
   "outputs": [
    {
     "data": {
      "text/plain": [
       "array([ 0,  1,  2,  3,  4,  5,  6,  7,  8,  9, 10, 11, 12, 13, 14, 15, 16,\n",
       "       17, 18, 19, 20, 21, 22, 23, 24, 25, 26, 27, 28, 29, 30, 31, 32, 33,\n",
       "       34])"
      ]
     },
     "execution_count": 13,
     "metadata": {},
     "output_type": "execute_result"
    }
   ],
   "source": [
    "my_array = np.arange(35)\n",
    "my_array"
   ]
  },
  {
   "cell_type": "markdown",
   "metadata": {},
   "source": [
    "#### shape\n"
   ]
  },
  {
   "cell_type": "code",
   "execution_count": 14,
   "metadata": {},
   "outputs": [
    {
     "data": {
      "text/plain": [
       "array([[ 0,  1,  2,  3,  4],\n",
       "       [ 5,  6,  7,  8,  9],\n",
       "       [10, 11, 12, 13, 14],\n",
       "       [15, 16, 17, 18, 19],\n",
       "       [20, 21, 22, 23, 24],\n",
       "       [25, 26, 27, 28, 29],\n",
       "       [30, 31, 32, 33, 34]])"
      ]
     },
     "execution_count": 14,
     "metadata": {},
     "output_type": "execute_result"
    }
   ],
   "source": [
    "# 将矩阵一维矩阵转化成7x5的二维矩阵\n",
    "# accessing my_array.shape and setting it to a tuple\n",
    "my_array.shape = (7,5)\n",
    "my_array"
   ]
  },
  {
   "cell_type": "markdown",
   "metadata": {},
   "source": [
    "#### access the third row"
   ]
  },
  {
   "cell_type": "code",
   "execution_count": 15,
   "metadata": {},
   "outputs": [
    {
     "data": {
      "text/plain": [
       "array([10, 11, 12, 13, 14])"
      ]
     },
     "execution_count": 15,
     "metadata": {},
     "output_type": "execute_result"
    }
   ],
   "source": [
    "# access the third row\n",
    "my_array[2]"
   ]
  },
  {
   "cell_type": "code",
   "execution_count": 16,
   "metadata": {},
   "outputs": [
    {
     "data": {
      "text/plain": [
       "array([25, 26, 27, 28, 29])"
      ]
     },
     "execution_count": 16,
     "metadata": {},
     "output_type": "execute_result"
    }
   ],
   "source": [
    "my_array[-2]"
   ]
  },
  {
   "cell_type": "markdown",
   "metadata": {},
   "source": [
    "#### access a single element"
   ]
  },
  {
   "cell_type": "code",
   "execution_count": 17,
   "metadata": {},
   "outputs": [
    {
     "data": {
      "text/plain": [
       "27"
      ]
     },
     "execution_count": 17,
     "metadata": {},
     "output_type": "execute_result"
    }
   ],
   "source": [
    "# access a single element\n",
    "row = 5\n",
    "column = 2\n",
    "my_array[row,column]"
   ]
  },
  {
   "cell_type": "code",
   "execution_count": 18,
   "metadata": {},
   "outputs": [
    {
     "data": {
      "text/plain": [
       "27"
      ]
     },
     "execution_count": 18,
     "metadata": {},
     "output_type": "execute_result"
    }
   ],
   "source": [
    "my_array[row][column]"
   ]
  },
  {
   "cell_type": "markdown",
   "metadata": {},
   "source": [
    "#### Three dimensional arrays"
   ]
  },
  {
   "cell_type": "code",
   "execution_count": 19,
   "metadata": {},
   "outputs": [
    {
     "data": {
      "text/plain": [
       "array([[[ 0,  1,  2,  3,  4],\n",
       "        [ 5,  6,  7,  8,  9],\n",
       "        [10, 11, 12, 13, 14],\n",
       "        [15, 16, 17, 18, 19],\n",
       "        [20, 21, 22, 23, 24],\n",
       "        [25, 26, 27, 28, 29],\n",
       "        [30, 31, 32, 33, 34]],\n",
       "\n",
       "       [[35, 36, 37, 38, 39],\n",
       "        [40, 41, 42, 43, 44],\n",
       "        [45, 46, 47, 48, 49],\n",
       "        [50, 51, 52, 53, 54],\n",
       "        [55, 56, 57, 58, 59],\n",
       "        [60, 61, 62, 63, 64],\n",
       "        [65, 66, 67, 68, 69]]])"
      ]
     },
     "execution_count": 19,
     "metadata": {},
     "output_type": "execute_result"
    }
   ],
   "source": [
    "my_3D_array = np.arange(70)\n",
    "my_3D_array.shape = (2,7,5)\n",
    "my_3D_array"
   ]
  },
  {
   "cell_type": "code",
   "execution_count": 20,
   "metadata": {},
   "outputs": [
    {
     "data": {
      "text/plain": [
       "array([[35, 36, 37, 38, 39],\n",
       "       [40, 41, 42, 43, 44],\n",
       "       [45, 46, 47, 48, 49],\n",
       "       [50, 51, 52, 53, 54],\n",
       "       [55, 56, 57, 58, 59],\n",
       "       [60, 61, 62, 63, 64],\n",
       "       [65, 66, 67, 68, 69]])"
      ]
     },
     "execution_count": 20,
     "metadata": {},
     "output_type": "execute_result"
    }
   ],
   "source": [
    "my_3D_array[1]"
   ]
  },
  {
   "cell_type": "code",
   "execution_count": 21,
   "metadata": {},
   "outputs": [
    {
     "data": {
      "text/plain": [
       "array([50, 51, 52, 53, 54])"
      ]
     },
     "execution_count": 21,
     "metadata": {},
     "output_type": "execute_result"
    }
   ],
   "source": [
    "my_3D_array[1,3]"
   ]
  },
  {
   "cell_type": "code",
   "execution_count": 22,
   "metadata": {},
   "outputs": [
    {
     "data": {
      "text/plain": [
       "52"
      ]
     },
     "execution_count": 22,
     "metadata": {},
     "output_type": "execute_result"
    }
   ],
   "source": [
    "my_3D_array[1,3,2]"
   ]
  },
  {
   "cell_type": "code",
   "execution_count": 23,
   "metadata": {},
   "outputs": [
    {
     "data": {
      "text/plain": [
       "array([[[   0,    1,    2,    3,    4],\n",
       "        [   5,    6,    7,    8,    9],\n",
       "        [  10,   11,   12,   13,   14],\n",
       "        [  15,   16,   17,   18,   19],\n",
       "        [  20,   21,   22,   23,   24],\n",
       "        [  25,   26,   27,   28,   29],\n",
       "        [  30,   31,   32,   33,   34]],\n",
       "\n",
       "       [[  35,   36,   37,   38,   39],\n",
       "        [  40,   41,   42,   43,   44],\n",
       "        [  45,   46,   47,   48,   49],\n",
       "        [  50,   51, 8888,   53,   54],\n",
       "        [  55,   56,   57,   58,   59],\n",
       "        [  60,   61,   62,   63,   64],\n",
       "        [  65,   66,   67,   68,   69]]])"
      ]
     },
     "execution_count": 23,
     "metadata": {},
     "output_type": "execute_result"
    }
   ],
   "source": [
    "my_3D_array[1,3,2] = 8888\n",
    "my_3D_array"
   ]
  },
  {
   "cell_type": "markdown",
   "metadata": {},
   "source": [
    "#### Boolean Mask arrays"
   ]
  },
  {
   "cell_type": "code",
   "execution_count": 24,
   "metadata": {},
   "outputs": [
    {
     "data": {
      "text/plain": [
       "array([-17,  -4,   0,   2,  21,  37, 105])"
      ]
     },
     "execution_count": 24,
     "metadata": {},
     "output_type": "execute_result"
    }
   ],
   "source": [
    "my_vector = np.array([-17,-4,0,2,21,37,105])\n",
    "my_vector"
   ]
  },
  {
   "cell_type": "code",
   "execution_count": 25,
   "metadata": {},
   "outputs": [
    {
     "data": {
      "text/plain": [
       "array([False, False,  True, False,  True, False,  True])"
      ]
     },
     "execution_count": 25,
     "metadata": {},
     "output_type": "execute_result"
    }
   ],
   "source": [
    "zero_mod_7_mask = 0 == (my_vector % 7)\n",
    "zero_mod_7_mask"
   ]
  },
  {
   "cell_type": "code",
   "execution_count": 26,
   "metadata": {},
   "outputs": [
    {
     "data": {
      "text/plain": [
       "array([  0,  21, 105])"
      ]
     },
     "execution_count": 26,
     "metadata": {},
     "output_type": "execute_result"
    }
   ],
   "source": [
    "# 过滤掉false的元素\n",
    "sub_array = my_vector[ zero_mod_7_mask ]\n",
    "sub_array"
   ]
  },
  {
   "cell_type": "code",
   "execution_count": 27,
   "metadata": {},
   "outputs": [
    {
     "data": {
      "text/plain": [
       "array([False,  True,  True])"
      ]
     },
     "execution_count": 27,
     "metadata": {},
     "output_type": "execute_result"
    }
   ],
   "source": [
    "sub_array>0"
   ]
  },
  {
   "cell_type": "code",
   "execution_count": 28,
   "metadata": {},
   "outputs": [
    {
     "data": {
      "text/plain": [
       "array([ 21, 105])"
      ]
     },
     "execution_count": 28,
     "metadata": {},
     "output_type": "execute_result"
    }
   ],
   "source": [
    "sub_array[ sub_array > 0]"
   ]
  },
  {
   "cell_type": "markdown",
   "metadata": {},
   "source": [
    "#### Numpy logical operators"
   ]
  },
  {
   "cell_type": "markdown",
   "metadata": {},
   "source": [
    "+ The first use the python logical operator\n",
    "+ The second use the numpy's logical operator and function\n",
    "\n",
    "**When deal with large arrays,numpy's functions will probably more efficient**"
   ]
  },
  {
   "cell_type": "code",
   "execution_count": 29,
   "metadata": {},
   "outputs": [
    {
     "data": {
      "text/plain": [
       "array([False, False,  True, False,  True, False,  True])"
      ]
     },
     "execution_count": 29,
     "metadata": {},
     "output_type": "execute_result"
    }
   ],
   "source": [
    "mod_test = 0 == (my_vector % 7)\n",
    "mod_test"
   ]
  },
  {
   "cell_type": "code",
   "execution_count": 30,
   "metadata": {},
   "outputs": [
    {
     "data": {
      "text/plain": [
       "array([False, False, False,  True,  True,  True,  True])"
      ]
     },
     "execution_count": 30,
     "metadata": {},
     "output_type": "execute_result"
    }
   ],
   "source": [
    "positive_test = my_vector > 0\n",
    "positive_test"
   ]
  },
  {
   "cell_type": "code",
   "execution_count": 31,
   "metadata": {},
   "outputs": [
    {
     "data": {
      "text/plain": [
       "array([False, False, False, False,  True, False,  True])"
      ]
     },
     "execution_count": 31,
     "metadata": {},
     "output_type": "execute_result"
    }
   ],
   "source": [
    "combine_mask = np.logical_and(mod_test,positive_test)\n",
    "combine_mask"
   ]
  },
  {
   "cell_type": "code",
   "execution_count": 32,
   "metadata": {},
   "outputs": [
    {
     "data": {
      "text/plain": [
       "array([ 21, 105])"
      ]
     },
     "execution_count": 32,
     "metadata": {},
     "output_type": "execute_result"
    }
   ],
   "source": [
    "my_vector[ combine_mask ]"
   ]
  },
  {
   "cell_type": "markdown",
   "metadata": {},
   "source": [
    "### Broadcasting"
   ]
  },
  {
   "cell_type": "markdown",
   "metadata": {},
   "source": [
    "In order to perform broadcasting correctly,we need to know the attribute of arrays\n",
    "\n",
    "These attribute include **shapes**,**number dimensions**,**size** and **data types**"
   ]
  },
  {
   "cell_type": "code",
   "execution_count": 33,
   "metadata": {},
   "outputs": [
    {
     "data": {
      "text/plain": [
       "array([[[ 0,  1,  2,  3,  4],\n",
       "        [ 5,  6,  7,  8,  9],\n",
       "        [10, 11, 12, 13, 14],\n",
       "        [15, 16, 17, 18, 19],\n",
       "        [20, 21, 22, 23, 24],\n",
       "        [25, 26, 27, 28, 29],\n",
       "        [30, 31, 32, 33, 34]],\n",
       "\n",
       "       [[35, 36, 37, 38, 39],\n",
       "        [40, 41, 42, 43, 44],\n",
       "        [45, 46, 47, 48, 49],\n",
       "        [50, 51, 52, 53, 54],\n",
       "        [55, 56, 57, 58, 59],\n",
       "        [60, 61, 62, 63, 64],\n",
       "        [65, 66, 67, 68, 69]]])"
      ]
     },
     "execution_count": 33,
     "metadata": {},
     "output_type": "execute_result"
    }
   ],
   "source": [
    "my_3D_array = np.arange(70)\n",
    "my_3D_array.shape = (2,7,5)\n",
    "my_3D_array"
   ]
  },
  {
   "cell_type": "code",
   "execution_count": 34,
   "metadata": {},
   "outputs": [
    {
     "data": {
      "text/plain": [
       "(2, 7, 5)"
      ]
     },
     "execution_count": 34,
     "metadata": {},
     "output_type": "execute_result"
    }
   ],
   "source": [
    "# shape\n",
    "my_3D_array.shape"
   ]
  },
  {
   "cell_type": "code",
   "execution_count": 35,
   "metadata": {},
   "outputs": [
    {
     "data": {
      "text/plain": [
       "3"
      ]
     },
     "execution_count": 35,
     "metadata": {},
     "output_type": "execute_result"
    }
   ],
   "source": [
    "# number of the dimensions\n",
    "my_3D_array.ndim"
   ]
  },
  {
   "cell_type": "code",
   "execution_count": 36,
   "metadata": {},
   "outputs": [
    {
     "data": {
      "text/plain": [
       "70"
      ]
     },
     "execution_count": 36,
     "metadata": {},
     "output_type": "execute_result"
    }
   ],
   "source": [
    "# size: number of elements\n",
    "my_3D_array.size"
   ]
  },
  {
   "cell_type": "code",
   "execution_count": 37,
   "metadata": {},
   "outputs": [
    {
     "data": {
      "text/plain": [
       "dtype('int64')"
      ]
     },
     "execution_count": 37,
     "metadata": {},
     "output_type": "execute_result"
    }
   ],
   "source": [
    "# data type  for each element\n",
    "my_3D_array.dtype"
   ]
  },
  {
   "cell_type": "markdown",
   "metadata": {},
   "source": [
    "**Broadcasting rules** 就是矩阵之间运算需要遵循的规则\n",
    "\n",
    "+ To test operation is compatible"
   ]
  },
  {
   "cell_type": "markdown",
   "metadata": {},
   "source": [
    "NumPy's broadcasting rules treat scalers as having a size equal to one"
   ]
  },
  {
   "cell_type": "code",
   "execution_count": 38,
   "metadata": {},
   "outputs": [
    {
     "data": {
      "text/plain": [
       "array([[[ -2,   3,   8,  13,  18],\n",
       "        [ 23,  28,  33,  38,  43],\n",
       "        [ 48,  53,  58,  63,  68],\n",
       "        [ 73,  78,  83,  88,  93],\n",
       "        [ 98, 103, 108, 113, 118],\n",
       "        [123, 128, 133, 138, 143],\n",
       "        [148, 153, 158, 163, 168]],\n",
       "\n",
       "       [[173, 178, 183, 188, 193],\n",
       "        [198, 203, 208, 213, 218],\n",
       "        [223, 228, 233, 238, 243],\n",
       "        [248, 253, 258, 263, 268],\n",
       "        [273, 278, 283, 288, 293],\n",
       "        [298, 303, 308, 313, 318],\n",
       "        [323, 328, 333, 338, 343]]])"
      ]
     },
     "execution_count": 38,
     "metadata": {},
     "output_type": "execute_result"
    }
   ],
   "source": [
    "5 * my_3D_array -2"
   ]
  },
  {
   "cell_type": "code",
   "execution_count": 39,
   "metadata": {},
   "outputs": [],
   "source": [
    "left_mat = np.arange(6).reshape((2,3))\n",
    "right_mat = np.arange(15).reshape((3,5))\n"
   ]
  },
  {
   "cell_type": "code",
   "execution_count": 40,
   "metadata": {},
   "outputs": [
    {
     "data": {
      "text/plain": [
       "array([[ 25,  28,  31,  34,  37],\n",
       "       [ 70,  82,  94, 106, 118]])"
      ]
     },
     "execution_count": 40,
     "metadata": {},
     "output_type": "execute_result"
    }
   ],
   "source": [
    "np.dot(left_mat,right_mat)"
   ]
  },
  {
   "cell_type": "markdown",
   "metadata": {},
   "source": [
    "#### Operations along axes"
   ]
  },
  {
   "cell_type": "code",
   "execution_count": 41,
   "metadata": {},
   "outputs": [
    {
     "data": {
      "text/plain": [
       "array([[[ 0,  1,  2,  3,  4],\n",
       "        [ 5,  6,  7,  8,  9],\n",
       "        [10, 11, 12, 13, 14],\n",
       "        [15, 16, 17, 18, 19],\n",
       "        [20, 21, 22, 23, 24],\n",
       "        [25, 26, 27, 28, 29],\n",
       "        [30, 31, 32, 33, 34]],\n",
       "\n",
       "       [[35, 36, 37, 38, 39],\n",
       "        [40, 41, 42, 43, 44],\n",
       "        [45, 46, 47, 48, 49],\n",
       "        [50, 51, 52, 53, 54],\n",
       "        [55, 56, 57, 58, 59],\n",
       "        [60, 61, 62, 63, 64],\n",
       "        [65, 66, 67, 68, 69]]])"
      ]
     },
     "execution_count": 41,
     "metadata": {},
     "output_type": "execute_result"
    }
   ],
   "source": [
    "my_3D_array"
   ]
  },
  {
   "cell_type": "markdown",
   "metadata": {},
   "source": [
    "#### sum\n"
   ]
  },
  {
   "cell_type": "code",
   "execution_count": 42,
   "metadata": {},
   "outputs": [
    {
     "data": {
      "text/plain": [
       "2415"
      ]
     },
     "execution_count": 42,
     "metadata": {},
     "output_type": "execute_result"
    }
   ],
   "source": [
    "my_3D_array.sum()"
   ]
  },
  {
   "cell_type": "code",
   "execution_count": 43,
   "metadata": {
    "scrolled": true
   },
   "outputs": [
    {
     "data": {
      "text/plain": [
       "array([[ 35,  37,  39,  41,  43],\n",
       "       [ 45,  47,  49,  51,  53],\n",
       "       [ 55,  57,  59,  61,  63],\n",
       "       [ 65,  67,  69,  71,  73],\n",
       "       [ 75,  77,  79,  81,  83],\n",
       "       [ 85,  87,  89,  91,  93],\n",
       "       [ 95,  97,  99, 101, 103]])"
      ]
     },
     "execution_count": 43,
     "metadata": {},
     "output_type": "execute_result"
    }
   ],
   "source": [
    "my_3D_array.sum(axis=0)"
   ]
  },
  {
   "cell_type": "code",
   "execution_count": 44,
   "metadata": {},
   "outputs": [
    {
     "data": {
      "text/plain": [
       "array([[105, 112, 119, 126, 133],\n",
       "       [350, 357, 364, 371, 378]])"
      ]
     },
     "execution_count": 44,
     "metadata": {},
     "output_type": "execute_result"
    }
   ],
   "source": [
    "my_3D_array.sum(axis=1)"
   ]
  },
  {
   "cell_type": "code",
   "execution_count": 45,
   "metadata": {},
   "outputs": [
    {
     "data": {
      "text/plain": [
       "array([[ 10,  35,  60,  85, 110, 135, 160],\n",
       "       [185, 210, 235, 260, 285, 310, 335]])"
      ]
     },
     "execution_count": 45,
     "metadata": {},
     "output_type": "execute_result"
    }
   ],
   "source": [
    "my_3D_array.sum(axis=2)"
   ]
  },
  {
   "cell_type": "code",
   "execution_count": 46,
   "metadata": {},
   "outputs": [
    {
     "data": {
      "text/plain": [
       "array([[3, 3, 3, 3, 3],\n",
       "       [3, 3, 3, 3, 3],\n",
       "       [3, 3, 3, 3, 3],\n",
       "       [3, 3, 3, 3, 3],\n",
       "       [3, 3, 3, 3, 3],\n",
       "       [3, 3, 3, 3, 3],\n",
       "       [3, 3, 3, 3, 3]])"
      ]
     },
     "execution_count": 46,
     "metadata": {},
     "output_type": "execute_result"
    }
   ],
   "source": [
    "my_2D_array = np.ones(35,dtype='int64').reshape((7,5))*3\n",
    "my_2D_array\n"
   ]
  },
  {
   "cell_type": "code",
   "execution_count": 47,
   "metadata": {},
   "outputs": [
    {
     "data": {
      "text/plain": [
       "array([[0.0468911 , 0.04329934, 0.95225564, 0.51861296, 0.45218547],\n",
       "       [0.3577821 , 0.63808404, 0.5802222 , 0.65503559, 0.11458762],\n",
       "       [0.03963297, 0.68034684, 0.690839  , 0.35781053, 0.54304311],\n",
       "       [0.06016523, 0.18331361, 0.32573531, 0.96672614, 0.69574094],\n",
       "       [0.92219228, 0.81199475, 0.96770518, 0.97033172, 0.39575002],\n",
       "       [0.25062847, 0.43032675, 0.1117085 , 0.07192191, 0.68828254],\n",
       "       [0.6444946 , 0.21994571, 0.62272818, 0.62139584, 0.84274348]])"
      ]
     },
     "execution_count": 47,
     "metadata": {},
     "output_type": "execute_result"
    }
   ],
   "source": [
    "my_2D_array = np.random.random((7,5))\n",
    "my_2D_array"
   ]
  },
  {
   "cell_type": "code",
   "execution_count": 48,
   "metadata": {},
   "outputs": [
    {
     "data": {
      "text/plain": [
       "array([[[0.0000e+00, 4.3299e-02, 1.9045e+00, 1.5558e+00, 1.8087e+00],\n",
       "        [1.7889e+00, 3.8285e+00, 4.0616e+00, 5.2403e+00, 1.0313e+00],\n",
       "        [3.9633e-01, 7.4838e+00, 8.2901e+00, 4.6515e+00, 7.6026e+00],\n",
       "        [9.0248e-01, 2.9330e+00, 5.5375e+00, 1.7401e+01, 1.3219e+01],\n",
       "        [1.8444e+01, 1.7052e+01, 2.1290e+01, 2.2318e+01, 9.4980e+00],\n",
       "        [6.2657e+00, 1.1188e+01, 3.0161e+00, 2.0138e+00, 1.9960e+01],\n",
       "        [1.9335e+01, 6.8183e+00, 1.9927e+01, 2.0506e+01, 2.8653e+01]],\n",
       "\n",
       "       [[1.6412e+00, 1.5588e+00, 3.5233e+01, 1.9707e+01, 1.7635e+01],\n",
       "        [1.4311e+01, 2.6161e+01, 2.4369e+01, 2.8167e+01, 5.0419e+00],\n",
       "        [1.7835e+00, 3.1296e+01, 3.2469e+01, 1.7175e+01, 2.6609e+01],\n",
       "        [3.0083e+00, 9.3490e+00, 1.6938e+01, 5.1236e+01, 3.7570e+01],\n",
       "        [5.0721e+01, 4.5472e+01, 5.5159e+01, 5.6279e+01, 2.3349e+01],\n",
       "        [1.5038e+01, 2.6250e+01, 6.9259e+00, 4.5311e+00, 4.4050e+01],\n",
       "        [4.1892e+01, 1.4516e+01, 4.1723e+01, 4.2255e+01, 5.8149e+01]]])"
      ]
     },
     "execution_count": 48,
     "metadata": {},
     "output_type": "execute_result"
    }
   ],
   "source": [
    "# 设置精度\n",
    "# set precision for floating point variables\n",
    "np.set_printoptions(precision=4)\n",
    "my_3D_array * my_2D_array\n"
   ]
  },
  {
   "cell_type": "markdown",
   "metadata": {},
   "source": [
    "NumPy is using its broadcasting rules to check ompatibility between my_3D_array and my_2D_array."
   ]
  },
  {
   "cell_type": "code",
   "execution_count": 49,
   "metadata": {},
   "outputs": [
    {
     "data": {
      "text/plain": [
       "array([-1,  7, 14, 21, 28])"
      ]
     },
     "execution_count": 49,
     "metadata": {},
     "output_type": "execute_result"
    }
   ],
   "source": [
    "my_vector = np.arange(5)*7\n",
    "my_vector[0]=-1\n",
    "my_vector"
   ]
  },
  {
   "cell_type": "code",
   "execution_count": 50,
   "metadata": {},
   "outputs": [
    {
     "data": {
      "text/plain": [
       "array([[[ -0.    ,   0.1429,   0.1429,   0.1429,   0.1429],\n",
       "        [ -5.    ,   0.8571,   0.5   ,   0.381 ,   0.3214],\n",
       "        [-10.    ,   1.5714,   0.8571,   0.619 ,   0.5   ],\n",
       "        [-15.    ,   2.2857,   1.2143,   0.8571,   0.6786],\n",
       "        [-20.    ,   3.    ,   1.5714,   1.0952,   0.8571],\n",
       "        [-25.    ,   3.7143,   1.9286,   1.3333,   1.0357],\n",
       "        [-30.    ,   4.4286,   2.2857,   1.5714,   1.2143]],\n",
       "\n",
       "       [[-35.    ,   5.1429,   2.6429,   1.8095,   1.3929],\n",
       "        [-40.    ,   5.8571,   3.    ,   2.0476,   1.5714],\n",
       "        [-45.    ,   6.5714,   3.3571,   2.2857,   1.75  ],\n",
       "        [-50.    ,   7.2857,   3.7143,   2.5238,   1.9286],\n",
       "        [-55.    ,   8.    ,   4.0714,   2.7619,   2.1071],\n",
       "        [-60.    ,   8.7143,   4.4286,   3.    ,   2.2857],\n",
       "        [-65.    ,   9.4286,   4.7857,   3.2381,   2.4643]]])"
      ]
     },
     "execution_count": 50,
     "metadata": {},
     "output_type": "execute_result"
    }
   ],
   "source": [
    "my_3D_array / my_vector"
   ]
  },
  {
   "cell_type": "code",
   "execution_count": 51,
   "metadata": {},
   "outputs": [
    {
     "data": {
      "text/plain": [
       "array([[[ 0,  1,  2,  3,  4],\n",
       "        [ 0,  6,  7,  8,  9],\n",
       "        [ 0,  4, 12, 13, 14],\n",
       "        [ 0,  2,  3, 18, 19],\n",
       "        [ 0,  0,  8,  2, 24],\n",
       "        [ 0,  5, 13,  7,  1],\n",
       "        [ 0,  3,  4, 12,  6]],\n",
       "\n",
       "       [[ 0,  1,  9, 17, 11],\n",
       "        [ 0,  6,  0,  1, 16],\n",
       "        [ 0,  4,  5,  6, 21],\n",
       "        [ 0,  2, 10, 11, 26],\n",
       "        [ 0,  0,  1, 16,  3],\n",
       "        [ 0,  5,  6,  0,  8],\n",
       "        [ 0,  3, 11,  5, 13]]])"
      ]
     },
     "execution_count": 51,
     "metadata": {},
     "output_type": "execute_result"
    }
   ],
   "source": [
    "my_3D_array % my_vector"
   ]
  },
  {
   "cell_type": "markdown",
   "metadata": {},
   "source": [
    "### Creating Structured Arrays"
   ]
  },
  {
   "cell_type": "code",
   "execution_count": 55,
   "metadata": {},
   "outputs": [
    {
     "data": {
      "text/plain": [
       "[('name', 'S6'), ('height', 'f8'), ('weight', 'f8'), ('age', 'i8')]"
      ]
     },
     "execution_count": 55,
     "metadata": {},
     "output_type": "execute_result"
    }
   ],
   "source": [
    "# data definition\n",
    "person_data_def = [('name','S6'),('height','f8'),('weight','f8'),('age','i8')]\n",
    "person_data_def"
   ]
  },
  {
   "cell_type": "code",
   "execution_count": 56,
   "metadata": {},
   "outputs": [
    {
     "data": {
      "text/plain": [
       "array([(b'', 0., 0., 0), (b'', 0., 0., 0), (b'', 0., 0., 0),\n",
       "       (b'', 0., 0., 0)],\n",
       "      dtype=[('name', 'S6'), ('height', '<f8'), ('weight', '<f8'), ('age', '<i8')])"
      ]
     },
     "execution_count": 56,
     "metadata": {},
     "output_type": "execute_result"
    }
   ],
   "source": [
    "people_array = np.zeros((4),dtype=person_data_def)\n",
    "people_array"
   ]
  },
  {
   "cell_type": "code",
   "execution_count": 59,
   "metadata": {},
   "outputs": [],
   "source": [
    "people_array[3] = ('Q10Viking',73,120,23)"
   ]
  },
  {
   "cell_type": "code",
   "execution_count": 61,
   "metadata": {},
   "outputs": [],
   "source": [
    "people_array[0] = ('Alpha',65,112,23)"
   ]
  },
  {
   "cell_type": "code",
   "execution_count": 62,
   "metadata": {},
   "outputs": [
    {
     "data": {
      "text/plain": [
       "array([(b'Alpha', 65., 112., 23), (b'',  0.,   0.,  0),\n",
       "       (b'',  0.,   0.,  0), (b'Q10Vik', 73., 120., 23)],\n",
       "      dtype=[('name', 'S6'), ('height', '<f8'), ('weight', '<f8'), ('age', '<i8')])"
      ]
     },
     "execution_count": 62,
     "metadata": {},
     "output_type": "execute_result"
    }
   ],
   "source": [
    "people_array"
   ]
  },
  {
   "cell_type": "code",
   "execution_count": 63,
   "metadata": {},
   "outputs": [
    {
     "data": {
      "text/plain": [
       "array([(b'Alpha', 65., 112., 23), (b'',  0.,   0.,  0),\n",
       "       (b'',  0.,   0.,  0), (b'Q10Vik', 73., 120., 23)],\n",
       "      dtype=[('name', 'S6'), ('height', '<f8'), ('weight', '<f8'), ('age', '<i8')])"
      ]
     },
     "execution_count": 63,
     "metadata": {},
     "output_type": "execute_result"
    }
   ],
   "source": [
    "people_array[0:]"
   ]
  },
  {
   "cell_type": "code",
   "execution_count": 85,
   "metadata": {},
   "outputs": [
    {
     "data": {
      "text/plain": [
       "array([23,  0,  0, 23])"
      ]
     },
     "execution_count": 85,
     "metadata": {},
     "output_type": "execute_result"
    }
   ],
   "source": [
    "ages = people_array['age']\n",
    "ages\n"
   ]
  },
  {
   "cell_type": "code",
   "execution_count": 86,
   "metadata": {},
   "outputs": [
    {
     "data": {
      "text/plain": [
       "23"
      ]
     },
     "execution_count": 86,
     "metadata": {},
     "output_type": "execute_result"
    }
   ],
   "source": [
    "ages[0]"
   ]
  },
  {
   "cell_type": "code",
   "execution_count": 69,
   "metadata": {},
   "outputs": [
    {
     "data": {
      "text/plain": [
       "array([11.5,  0. ,  0. , 11.5])"
      ]
     },
     "execution_count": 69,
     "metadata": {},
     "output_type": "execute_result"
    }
   ],
   "source": [
    "make_youthful = ages / 2\n",
    "make_youthful"
   ]
  },
  {
   "cell_type": "markdown",
   "metadata": {},
   "source": [
    "### Multi-dimensional Structured Arrays"
   ]
  },
  {
   "cell_type": "code",
   "execution_count": 71,
   "metadata": {},
   "outputs": [
    {
     "data": {
      "text/plain": [
       "array([[[(b'', 0., 0., 0), (b'', 0., 0., 0)],\n",
       "        [(b'', 0., 0., 0), (b'', 0., 0., 0)],\n",
       "        [(b'', 0., 0., 0), (b'', 0., 0., 0)]],\n",
       "\n",
       "       [[(b'', 0., 0., 0), (b'', 0., 0., 0)],\n",
       "        [(b'', 0., 0., 0), (b'', 0., 0., 0)],\n",
       "        [(b'', 0., 0., 0), (b'', 0., 0., 0)]],\n",
       "\n",
       "       [[(b'', 0., 0., 0), (b'', 0., 0., 0)],\n",
       "        [(b'', 0., 0., 0), (b'', 0., 0., 0)],\n",
       "        [(b'', 0., 0., 0), (b'', 0., 0., 0)]],\n",
       "\n",
       "       [[(b'', 0., 0., 0), (b'', 0., 0., 0)],\n",
       "        [(b'', 0., 0., 0), (b'', 0., 0., 0)],\n",
       "        [(b'', 0., 0., 0), (b'', 0., 0., 0)]]],\n",
       "      dtype=[('name', 'S6'), ('height', '<f8'), ('weight', '<f8'), ('age', '<i8')])"
      ]
     },
     "execution_count": 71,
     "metadata": {},
     "output_type": "execute_result"
    }
   ],
   "source": [
    "people_big_array = np.zeros((4,3,2),dtype=person_data_def)\n",
    "people_big_array"
   ]
  },
  {
   "cell_type": "code",
   "execution_count": 73,
   "metadata": {},
   "outputs": [],
   "source": [
    "people_big_array[3,2,1] = ('Echo',68,155,46)"
   ]
  },
  {
   "cell_type": "code",
   "execution_count": 75,
   "metadata": {},
   "outputs": [
    {
     "data": {
      "text/plain": [
       "array([[[(b'',  0.,   0.,  0), (b'',  0.,   0.,  0)],\n",
       "        [(b'',  0.,   0.,  0), (b'',  0.,   0.,  0)],\n",
       "        [(b'',  0.,   0.,  0), (b'',  0.,   0.,  0)]],\n",
       "\n",
       "       [[(b'',  0.,   0.,  0), (b'',  0.,   0.,  0)],\n",
       "        [(b'',  0.,   0.,  0), (b'',  0.,   0.,  0)],\n",
       "        [(b'',  0.,   0.,  0), (b'',  0.,   0.,  0)]],\n",
       "\n",
       "       [[(b'',  0.,   0.,  0), (b'',  0.,   0.,  0)],\n",
       "        [(b'',  0.,   0.,  0), (b'',  0.,   0.,  0)],\n",
       "        [(b'',  0.,   0.,  0), (b'',  0.,   0.,  0)]],\n",
       "\n",
       "       [[(b'',  0.,   0.,  0), (b'',  0.,   0.,  0)],\n",
       "        [(b'',  0.,   0.,  0), (b'',  0.,   0.,  0)],\n",
       "        [(b'',  0.,   0.,  0), (b'Echo', 68., 155., 46)]]],\n",
       "      dtype=[('name', 'S6'), ('height', '<f8'), ('weight', '<f8'), ('age', '<i8')])"
      ]
     },
     "execution_count": 75,
     "metadata": {},
     "output_type": "execute_result"
    }
   ],
   "source": [
    "people_big_array"
   ]
  },
  {
   "cell_type": "code",
   "execution_count": 77,
   "metadata": {},
   "outputs": [
    {
     "data": {
      "text/plain": [
       "array([[[( 0.,), ( 0.,)],\n",
       "        [( 0.,), ( 0.,)],\n",
       "        [( 0.,), ( 0.,)]],\n",
       "\n",
       "       [[( 0.,), ( 0.,)],\n",
       "        [( 0.,), ( 0.,)],\n",
       "        [( 0.,), ( 0.,)]],\n",
       "\n",
       "       [[( 0.,), ( 0.,)],\n",
       "        [( 0.,), ( 0.,)],\n",
       "        [( 0.,), ( 0.,)]],\n",
       "\n",
       "       [[( 0.,), ( 0.,)],\n",
       "        [( 0.,), ( 0.,)],\n",
       "        [( 0.,), (68.,)]]], dtype=[('height', '<f8')])"
      ]
     },
     "execution_count": 77,
     "metadata": {},
     "output_type": "execute_result"
    }
   ],
   "source": [
    "people_big_array[['height']]"
   ]
  },
  {
   "cell_type": "code",
   "execution_count": 78,
   "metadata": {},
   "outputs": [
    {
     "data": {
      "text/plain": [
       "array([[[( 0.,   0.), ( 0.,   0.)],\n",
       "        [( 0.,   0.), ( 0.,   0.)],\n",
       "        [( 0.,   0.), ( 0.,   0.)]],\n",
       "\n",
       "       [[( 0.,   0.), ( 0.,   0.)],\n",
       "        [( 0.,   0.), ( 0.,   0.)],\n",
       "        [( 0.,   0.), ( 0.,   0.)]],\n",
       "\n",
       "       [[( 0.,   0.), ( 0.,   0.)],\n",
       "        [( 0.,   0.), ( 0.,   0.)],\n",
       "        [( 0.,   0.), ( 0.,   0.)]],\n",
       "\n",
       "       [[( 0.,   0.), ( 0.,   0.)],\n",
       "        [( 0.,   0.), ( 0.,   0.)],\n",
       "        [( 0.,   0.), (68., 155.)]]],\n",
       "      dtype=[('height', '<f8'), ('weight', '<f8')])"
      ]
     },
     "execution_count": 78,
     "metadata": {},
     "output_type": "execute_result"
    }
   ],
   "source": [
    "people_big_array[['height','weight']]"
   ]
  },
  {
   "cell_type": "markdown",
   "metadata": {},
   "source": [
    "### Creating Record Array"
   ]
  },
  {
   "cell_type": "markdown",
   "metadata": {},
   "source": [
    "This wrapping allows **field access** by attibute on an array object."
   ]
  },
  {
   "cell_type": "code",
   "execution_count": 81,
   "metadata": {},
   "outputs": [
    {
     "data": {
      "text/plain": [
       "rec.array([(b'Delta', 73., 205., 34), (b'Alpha', 65., 112., 23)],\n",
       "          dtype=[('name', 'S6'), ('height', '<f8'), ('weight', '<f8'), ('age', '<i8')])"
      ]
     },
     "execution_count": 81,
     "metadata": {},
     "output_type": "execute_result"
    }
   ],
   "source": [
    "person_record_array = np.rec.array([('Delta',73,205,34),('Alpha',65,112,23)],dtype=person_data_def)\n",
    "person_record_array"
   ]
  },
  {
   "cell_type": "code",
   "execution_count": 82,
   "metadata": {},
   "outputs": [
    {
     "data": {
      "text/plain": [
       "34"
      ]
     },
     "execution_count": 82,
     "metadata": {},
     "output_type": "execute_result"
    }
   ],
   "source": [
    "# use the attribute\n",
    "person_record_array[0].age"
   ]
  }
 ],
 "metadata": {
  "kernelspec": {
   "display_name": "Python 3",
   "language": "python",
   "name": "python3"
  },
  "language_info": {
   "codemirror_mode": {
    "name": "ipython",
    "version": 3
   },
   "file_extension": ".py",
   "mimetype": "text/x-python",
   "name": "python",
   "nbconvert_exporter": "python",
   "pygments_lexer": "ipython3",
   "version": "3.6.6"
  }
 },
 "nbformat": 4,
 "nbformat_minor": 2
}
